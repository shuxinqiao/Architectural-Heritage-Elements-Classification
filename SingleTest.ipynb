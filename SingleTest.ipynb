{
 "cells": [
  {
   "cell_type": "code",
   "execution_count": 44,
   "id": "37951147-a4bf-4490-86cb-90d5863470f1",
   "metadata": {},
   "outputs": [],
   "source": [
    "import torch\n",
    "import torch.nn as nn\n",
    "import torchvision\n",
    "from torchvision import datasets, models, transforms\n",
    "import matplotlib.pyplot as plt\n",
    "from PIL import Image\n",
    "import os\n",
    "\n",
    "\n",
    "data_path = 'dataset/'\n",
    "class_names = ['altar', 'apse', 'bell_tower', 'column', 'dome(inner)', 'dome(outer)', 'flying_buttress', 'gargoyle', 'stained_glass', 'vault']"
   ]
  },
  {
   "cell_type": "code",
   "execution_count": 45,
   "id": "3cc11a17-ca6c-4326-b1f7-2210c17bbf23",
   "metadata": {},
   "outputs": [],
   "source": [
    "# Transform\n",
    "data_transforms = {\n",
    "    'SingleTest':\n",
    "        transforms.Compose([\n",
    "            transforms.Resize(64),\n",
    "            transforms.CenterCrop(64),\n",
    "            transforms.ToTensor(),\n",
    "            # from Preprocess file result\n",
    "            transforms.Normalize([0.4388, 0.4213, 0.4016], [0.2508, 0.2558, 0.2859])\n",
    "        ]),\n",
    "}"
   ]
  },
  {
   "cell_type": "code",
   "execution_count": 46,
   "id": "57ee2950-9354-44fb-965f-aa2efb5528a7",
   "metadata": {},
   "outputs": [
    {
     "data": {
      "text/plain": [
       "<All keys matched successfully>"
      ]
     },
     "execution_count": 46,
     "metadata": {},
     "output_type": "execute_result"
    }
   ],
   "source": [
    "# Reconstruct Model\n",
    "model_ft = models.resnet18(pretrained=True)\n",
    "num_ftrs = model_ft.fc.in_features\n",
    "model_ft.fc = nn.Linear(num_ftrs, 10)\n",
    "model_ft = model_ft.to(device)\n",
    "model_ft.load_state_dict(torch.load('model.pth'))"
   ]
  },
  {
   "cell_type": "code",
   "execution_count": 48,
   "id": "fb1ceb97-6316-4e74-9a32-128480b58239",
   "metadata": {},
   "outputs": [
    {
     "name": "stdout",
     "output_type": "stream",
     "text": [
      "dome(outer)\n",
      "dome(inner)\n"
     ]
    }
   ],
   "source": [
    "# Data load and basic info\n",
    "# Data load\n",
    "img_array = os.listdir(data_path + 'SingleTest')\n",
    "\n",
    "for image_name in img_array:\n",
    "    image = Image.open(data_path + 'SingleTest/' + image_name)\n",
    "    tensor = data_transforms['SingleTest'](image)\n",
    "    tensor = torch.unsqueeze(tensor, dim=0)\n",
    "\n",
    "    model_ft.eval()\n",
    "    \n",
    "    with torch.no_grad():\n",
    "        outputs = model_ft(tensor)\n",
    "        _, preds = torch.max(outputs, 1)\n",
    "\n",
    "        print(class_names[preds])"
   ]
  },
  {
   "cell_type": "code",
   "execution_count": null,
   "id": "5af9412a-a019-41f2-81ae-5a8b75695f1d",
   "metadata": {},
   "outputs": [],
   "source": []
  }
 ],
 "metadata": {
  "kernelspec": {
   "display_name": "Python 3 (ipykernel)",
   "language": "python",
   "name": "python3"
  },
  "language_info": {
   "codemirror_mode": {
    "name": "ipython",
    "version": 3
   },
   "file_extension": ".py",
   "mimetype": "text/x-python",
   "name": "python",
   "nbconvert_exporter": "python",
   "pygments_lexer": "ipython3",
   "version": "3.10.5"
  }
 },
 "nbformat": 4,
 "nbformat_minor": 5
}
