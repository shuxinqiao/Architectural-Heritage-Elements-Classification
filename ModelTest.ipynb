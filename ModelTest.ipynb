{
 "cells": [
  {
   "cell_type": "code",
   "execution_count": 32,
   "id": "78f75725-54be-4095-8503-ea25a7d587b6",
   "metadata": {},
   "outputs": [],
   "source": [
    "import torch\n",
    "import torch.nn as nn\n",
    "import torchvision\n",
    "from torchvision import datasets, models, transforms\n",
    "import matplotlib.pyplot as plt\n",
    "import os\n",
    "\n",
    "\n",
    "data_path = 'dataset/'"
   ]
  },
  {
   "cell_type": "code",
   "execution_count": 33,
   "id": "7ac62763-e9e2-4e72-8f3e-30270d3d1832",
   "metadata": {},
   "outputs": [],
   "source": [
    "# Transform\n",
    "data_transforms = {\n",
    "    'test':\n",
    "        transforms.Compose([\n",
    "            transforms.ToTensor(),\n",
    "            # from Preprocess file result\n",
    "            transforms.Normalize([0.4388, 0.4213, 0.4016], [0.2508, 0.2558, 0.2859])\n",
    "        ]),\n",
    "}"
   ]
  },
  {
   "cell_type": "code",
   "execution_count": 34,
   "id": "5cd21bc3-e248-4b4e-8e4a-5ec42e5722d5",
   "metadata": {},
   "outputs": [
    {
     "name": "stdout",
     "output_type": "stream",
     "text": [
      "['altar', 'apse', 'bell_tower', 'column', 'dome(inner)', 'dome(outer)', 'flying_buttress', 'gargoyle', 'stained_glass', 'vault']\n",
      "{'test': 1404}\n",
      "cpu\n"
     ]
    }
   ],
   "source": [
    "# Data load and basic info\n",
    "# Data load\n",
    "image_datasets = {x: datasets.ImageFolder(os.path.join(data_path, x),data_transforms[x])\n",
    "                  for x in ['test']}\n",
    "\n",
    "# Into dataloaders\n",
    "dataloaders = {x: torch.utils.data.DataLoader(image_datasets[x], batch_size=4, shuffle=True, num_workers=4)\n",
    "              for x in ['test']}\n",
    "\n",
    "# basic info\n",
    "dataset_sizes = {x: len(image_datasets[x]) for x in ['test']}\n",
    "class_names = image_datasets['test'].classes\n",
    "\n",
    "device = torch.device(\"cuda:0\" if torch.cuda.is_available() else \"cpu\")\n",
    "\n",
    "print(class_names)\n",
    "print(dataset_sizes)\n",
    "print(device)"
   ]
  },
  {
   "cell_type": "code",
   "execution_count": 35,
   "id": "4b0adf7b-c453-47c1-b97c-16355c320869",
   "metadata": {},
   "outputs": [],
   "source": [
    "# Reconstruct Model\n",
    "model_ft = models.resnet18(pretrained=True)\n",
    "num_ftrs = model_ft.fc.in_features\n",
    "model_ft.fc = nn.Linear(num_ftrs, len(class_names))\n",
    "model_ft = model_ft.to(device)\n",
    "model_ft.load_state_dict(torch.load('model.pth'))\n",
    "\n",
    "criterion = nn.CrossEntropyLoss()"
   ]
  },
  {
   "cell_type": "code",
   "execution_count": 36,
   "id": "e6394073-412f-409b-88b2-542c1551e94f",
   "metadata": {},
   "outputs": [],
   "source": [
    "def test_model(model, criterion, test_dir):\n",
    "    model.eval()\n",
    "    running_loss = 0.0\n",
    "    running_corrects = 0\n",
    "    \n",
    "    with torch.no_grad():\n",
    "        for i, (inputs, labels) in enumerate(dataloaders[test_dir]):\n",
    "            inputs = inputs.to(device)\n",
    "            labels = labels.to(device)\n",
    "\n",
    "            outputs = model(inputs)\n",
    "            _, preds = torch.max(outputs, 1)\n",
    "            loss = criterion(outputs, labels)\n",
    "\n",
    "            # statistics\n",
    "            running_loss += loss.item() * inputs.size(0)\n",
    "            running_corrects += torch.sum(preds == labels.data)\n",
    "            \n",
    "        loss = running_loss / dataset_sizes[test_dir]\n",
    "        acc = running_corrects.double() / dataset_sizes[test_dir]\n",
    "        \n",
    "        print(f'{test_dir} Loss: {loss:.4f} Acc: {acc:.4f}')"
   ]
  },
  {
   "cell_type": "code",
   "execution_count": 37,
   "id": "5d0782b4-4ff2-40a9-841e-ecf5fe76006c",
   "metadata": {},
   "outputs": [
    {
     "name": "stdout",
     "output_type": "stream",
     "text": [
      "test Loss: 0.3411 Acc: 0.9017\n"
     ]
    }
   ],
   "source": [
    "test_model(model_ft, criterion, 'test')"
   ]
  },
  {
   "cell_type": "code",
   "execution_count": null,
   "id": "e2704805-31d5-4893-bc65-03c4d019e24d",
   "metadata": {},
   "outputs": [],
   "source": []
  }
 ],
 "metadata": {
  "kernelspec": {
   "display_name": "Python 3 (ipykernel)",
   "language": "python",
   "name": "python3"
  },
  "language_info": {
   "codemirror_mode": {
    "name": "ipython",
    "version": 3
   },
   "file_extension": ".py",
   "mimetype": "text/x-python",
   "name": "python",
   "nbconvert_exporter": "python",
   "pygments_lexer": "ipython3",
   "version": "3.10.5"
  }
 },
 "nbformat": 4,
 "nbformat_minor": 5
}
